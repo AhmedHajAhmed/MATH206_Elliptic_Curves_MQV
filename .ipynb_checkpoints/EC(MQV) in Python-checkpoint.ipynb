{
 "cells": [
  {
   "cell_type": "markdown",
   "id": "273243ac",
   "metadata": {},
   "source": [
    "# Implmentation of Elliptic Curve Menezes-Qu-Vanstone in Python EC(MQV)"
   ]
  },
  {
   "cell_type": "markdown",
   "id": "2cdbd540",
   "metadata": {},
   "source": [
    "### In this notebook we will explore the implementation of Elliptic Curve Cryptography using the MQV key exchange protocol in Python. "
   ]
  },
  {
   "cell_type": "code",
   "execution_count": 117,
   "id": "ed17af0d",
   "metadata": {},
   "outputs": [],
   "source": [
    "def add_points(P: tuple, Q: tuple, p: int):\n",
    "    \"\"\"\n",
    "    This function performs point addition on an elliptic curve defined by the \n",
    "    equation y^2 ≡ x^3 + ax + b (mod p), where 'a' and 'b' are curve parameters. \n",
    "    \n",
    "    :param P: first point tuple (x, y)\n",
    "    :param Q: second point tuple (x, y) \n",
    "    :param p: mod int value \n",
    "    :return: point P + Q tuple (x, y)\n",
    "    \"\"\"\n",
    "    x1, y1 = P\n",
    "    x2, y2 = Q\n",
    "     \n",
    "    if x1 == x2 and y1 == y2:                       # if same point (P == Q)\n",
    "        beta = (3 * x1 * x2 + a) * pow(2 * y1, -1, p)\n",
    "    else:                                           # if not same point (P != Q)\n",
    "        beta = (y2 - y1) * pow(x2 - x1, -1, p)\n",
    "     \n",
    "    x3 = (beta * beta - x1 - x2) % p\n",
    "    y3 = (beta * (x1 - x3) - y1) % p\n",
    "    \n",
    "    is_on_curve((x3, y3), p)                        # make sure point P + Q is on curve \n",
    "             \n",
    "    return x3, y3"
   ]
  },
  {
   "cell_type": "code",
   "execution_count": 118,
   "id": "9326168a",
   "metadata": {},
   "outputs": [],
   "source": [
    "def is_on_curve(P: tuple, p: int):\n",
    "    \"\"\"\n",
    "    This function Asserts that a point P is on the elliptic \n",
    "    curve defined by the equation y^2 ≡ x^3 + ax + b (mod p).\n",
    "\n",
    "    :param P: point tuple (x, y) to be checked\n",
    "    :param p: modulus integer value \n",
    "    :return: throws an error if P is not on the curve\n",
    "    \"\"\"\n",
    "    x, y = P \n",
    "    assert (y * y) % p == (pow(x, 3, p) + (a * x) + b) % p"
   ]
  },
  {
   "cell_type": "markdown",
   "id": "d8f6a843",
   "metadata": {},
   "source": [
    "#### Curve Configuration\n",
    "\n",
    "This specific curve has the equation y^2 = x^3 + 7. Fixed base point G, modulo p, order n and cofactor h values are mentioned in the following snippet. Note that these values are all public."
   ]
  },
  {
   "cell_type": "code",
   "execution_count": 145,
   "id": "04316518",
   "metadata": {},
   "outputs": [],
   "source": [
    "# Curve parameters\n",
    "a = 1\n",
    "b = 7\n",
    "\n",
    "# Base point (G) on the elliptic curve\n",
    "G = (55066263022277343669578718895168534326250603453777594175500187360389116729240, \n",
    "     32670510020758816978083085130507043184471273380659243275938904335757337482424)\n",
    " \n",
    "# Modulo (p) for the finite field\n",
    "p = pow(2, 256) - pow(2, 32) - pow(2, 9) - pow(2, 8) - pow(2, 7) - pow(2, 6) - pow(2, 4) - pow(2, 0)\n",
    " \n",
    "# Order (n) of the base point G in the elliptic curve\n",
    "n = 115792089237316195423570985008687907852837564279074904382605163141518161494337\n",
    "\n",
    "# Co-factor (h) \n",
    "h = 1"
   ]
  },
  {
   "cell_type": "code",
   "execution_count": 146,
   "id": "4581bf57",
   "metadata": {},
   "outputs": [
    {
     "ename": "AssertionError",
     "evalue": "",
     "output_type": "error",
     "traceback": [
      "\u001b[0;31m---------------------------------------------------------------------------\u001b[0m",
      "\u001b[0;31mAssertionError\u001b[0m                            Traceback (most recent call last)",
      "Cell \u001b[0;32mIn[146], line 3\u001b[0m\n\u001b[1;32m      1\u001b[0m \u001b[38;5;66;03m# check that point G with mod p is on curve \u001b[39;00m\n\u001b[0;32m----> 3\u001b[0m is_on_curve(G, p)\n",
      "Cell \u001b[0;32mIn[118], line 11\u001b[0m, in \u001b[0;36mis_on_curve\u001b[0;34m(P, p)\u001b[0m\n\u001b[1;32m      2\u001b[0m \u001b[38;5;250m\u001b[39m\u001b[38;5;124;03m\"\"\"\u001b[39;00m\n\u001b[1;32m      3\u001b[0m \u001b[38;5;124;03mThis function Asserts that a point P is on the elliptic \u001b[39;00m\n\u001b[1;32m      4\u001b[0m \u001b[38;5;124;03mcurve defined by the equation y^2 ≡ x^3 + ax + b (mod p).\u001b[39;00m\n\u001b[0;32m   (...)\u001b[0m\n\u001b[1;32m      8\u001b[0m \u001b[38;5;124;03m:return: throws an error if P is not on the curve\u001b[39;00m\n\u001b[1;32m      9\u001b[0m \u001b[38;5;124;03m\"\"\"\u001b[39;00m\n\u001b[1;32m     10\u001b[0m x, y \u001b[38;5;241m=\u001b[39m P \n\u001b[0;32m---> 11\u001b[0m \u001b[38;5;28;01massert\u001b[39;00m (y \u001b[38;5;241m*\u001b[39m y) \u001b[38;5;241m%\u001b[39m p \u001b[38;5;241m==\u001b[39m (\u001b[38;5;28mpow\u001b[39m(x, \u001b[38;5;241m3\u001b[39m, p) \u001b[38;5;241m+\u001b[39m (a \u001b[38;5;241m*\u001b[39m x) \u001b[38;5;241m+\u001b[39m b) \u001b[38;5;241m%\u001b[39m p\n",
      "\u001b[0;31mAssertionError\u001b[0m: "
     ]
    }
   ],
   "source": [
    "# check that point G with mod p is on curve \n",
    "\n",
    "is_on_curve(G, p)"
   ]
  },
  {
   "cell_type": "code",
   "execution_count": 147,
   "id": "449dac1f",
   "metadata": {},
   "outputs": [],
   "source": [
    "def apply_double_and_add_method(G: tuple, k: int, p: int):\n",
    "    \"\"\"\n",
    "    The function performs scalar multiplication on an elliptic curve using the Double-and-Add method.\n",
    "    It efficiently computes the point kG, where G is the base point on the curve.\n",
    "    \n",
    "    :param G: base point tuple (x, y) on the elliptic curve\n",
    "    :param k: scalar multiplier\n",
    "    :param p: modulus integer value\n",
    "    :return: result of the scalar multiplication kG, where G is the base point\n",
    "    \"\"\"\n",
    "    target_point = G\n",
    "    \n",
    "    k_binary = bin(k)[2:]                             # binary representation of k, excluding the '0b' prefix\n",
    "     \n",
    "    for i in range(1, len(k_binary)):\n",
    "        current_bit = k_binary[i: i+1]                # using [i: i+1] to split to remove 0b at the beggining\n",
    "         \n",
    "        # doubling - always\n",
    "        target_point = add_points(target_point, target_point, p)\n",
    "         \n",
    "        if current_bit == \"1\":\n",
    "            target_point = add_points(target_point, G, p)\n",
    "         \n",
    "    return target_point"
   ]
  },
  {
   "cell_type": "code",
   "execution_count": 148,
   "id": "e1017c06",
   "metadata": {},
   "outputs": [
    {
     "ename": "AssertionError",
     "evalue": "",
     "output_type": "error",
     "traceback": [
      "\u001b[0;31m---------------------------------------------------------------------------\u001b[0m",
      "\u001b[0;31mAssertionError\u001b[0m                            Traceback (most recent call last)",
      "Cell \u001b[0;32mIn[148], line 10\u001b[0m\n\u001b[1;32m      7\u001b[0m ra \u001b[38;5;241m=\u001b[39m random\u001b[38;5;241m.\u001b[39mgetrandbits(\u001b[38;5;241m256\u001b[39m)\n\u001b[1;32m      9\u001b[0m \u001b[38;5;66;03m# Alice's public key (Qa = ka * G)\u001b[39;00m\n\u001b[0;32m---> 10\u001b[0m Qa \u001b[38;5;241m=\u001b[39m apply_double_and_add_method(G \u001b[38;5;241m=\u001b[39m G, k \u001b[38;5;241m=\u001b[39m ka, p \u001b[38;5;241m=\u001b[39m p)\n\u001b[1;32m     12\u001b[0m \u001b[38;5;66;03m# Alice's random point (Ra = ra * G)\u001b[39;00m\n\u001b[1;32m     13\u001b[0m Ra \u001b[38;5;241m=\u001b[39m apply_double_and_add_method(G \u001b[38;5;241m=\u001b[39m G, k \u001b[38;5;241m=\u001b[39m ra, p \u001b[38;5;241m=\u001b[39m p)\n",
      "Cell \u001b[0;32mIn[147], line 19\u001b[0m, in \u001b[0;36mapply_double_and_add_method\u001b[0;34m(G, k, p)\u001b[0m\n\u001b[1;32m     16\u001b[0m current_bit \u001b[38;5;241m=\u001b[39m k_binary[i: i\u001b[38;5;241m+\u001b[39m\u001b[38;5;241m1\u001b[39m]                \u001b[38;5;66;03m# using [i: i+1] to split to remove 0b at the beggining\u001b[39;00m\n\u001b[1;32m     18\u001b[0m \u001b[38;5;66;03m# doubling - always\u001b[39;00m\n\u001b[0;32m---> 19\u001b[0m target_point \u001b[38;5;241m=\u001b[39m add_points(target_point, target_point, p)\n\u001b[1;32m     21\u001b[0m \u001b[38;5;28;01mif\u001b[39;00m current_bit \u001b[38;5;241m==\u001b[39m \u001b[38;5;124m\"\u001b[39m\u001b[38;5;124m1\u001b[39m\u001b[38;5;124m\"\u001b[39m:\n\u001b[1;32m     22\u001b[0m     target_point \u001b[38;5;241m=\u001b[39m add_points(target_point, G, p)\n",
      "Cell \u001b[0;32mIn[117], line 22\u001b[0m, in \u001b[0;36madd_points\u001b[0;34m(P, Q, p)\u001b[0m\n\u001b[1;32m     19\u001b[0m x3 \u001b[38;5;241m=\u001b[39m (beta \u001b[38;5;241m*\u001b[39m beta \u001b[38;5;241m-\u001b[39m x1 \u001b[38;5;241m-\u001b[39m x2) \u001b[38;5;241m%\u001b[39m p\n\u001b[1;32m     20\u001b[0m y3 \u001b[38;5;241m=\u001b[39m (beta \u001b[38;5;241m*\u001b[39m (x1 \u001b[38;5;241m-\u001b[39m x3) \u001b[38;5;241m-\u001b[39m y1) \u001b[38;5;241m%\u001b[39m p\n\u001b[0;32m---> 22\u001b[0m is_on_curve((x3, y3), p)                        \u001b[38;5;66;03m# make sure point P + Q is on curve \u001b[39;00m\n\u001b[1;32m     24\u001b[0m \u001b[38;5;28;01mreturn\u001b[39;00m x3, y3\n",
      "Cell \u001b[0;32mIn[118], line 11\u001b[0m, in \u001b[0;36mis_on_curve\u001b[0;34m(P, p)\u001b[0m\n\u001b[1;32m      2\u001b[0m \u001b[38;5;250m\u001b[39m\u001b[38;5;124;03m\"\"\"\u001b[39;00m\n\u001b[1;32m      3\u001b[0m \u001b[38;5;124;03mThis function Asserts that a point P is on the elliptic \u001b[39;00m\n\u001b[1;32m      4\u001b[0m \u001b[38;5;124;03mcurve defined by the equation y^2 ≡ x^3 + ax + b (mod p).\u001b[39;00m\n\u001b[0;32m   (...)\u001b[0m\n\u001b[1;32m      8\u001b[0m \u001b[38;5;124;03m:return: throws an error if P is not on the curve\u001b[39;00m\n\u001b[1;32m      9\u001b[0m \u001b[38;5;124;03m\"\"\"\u001b[39;00m\n\u001b[1;32m     10\u001b[0m x, y \u001b[38;5;241m=\u001b[39m P \n\u001b[0;32m---> 11\u001b[0m \u001b[38;5;28;01massert\u001b[39;00m (y \u001b[38;5;241m*\u001b[39m y) \u001b[38;5;241m%\u001b[39m p \u001b[38;5;241m==\u001b[39m (\u001b[38;5;28mpow\u001b[39m(x, \u001b[38;5;241m3\u001b[39m, p) \u001b[38;5;241m+\u001b[39m (a \u001b[38;5;241m*\u001b[39m x) \u001b[38;5;241m+\u001b[39m b) \u001b[38;5;241m%\u001b[39m p\n",
      "\u001b[0;31mAssertionError\u001b[0m: "
     ]
    }
   ],
   "source": [
    "import random\n",
    "\n",
    "# Alice's private key (random 256 bits ECC key)\n",
    "ka = random.getrandbits(256)\n",
    "\n",
    "# Alice's random key (secret)\n",
    "ra = random.getrandbits(256)\n",
    "\n",
    "# Alice's public key (Qa = ka * G)\n",
    "Qa = apply_double_and_add_method(G = G, k = ka, p = p)\n",
    "\n",
    "# Alice's random point (Ra = ra * G)\n",
    "Ra = apply_double_and_add_method(G = G, k = ra, p = p)"
   ]
  },
  {
   "cell_type": "code",
   "execution_count": 149,
   "id": "05586cf0",
   "metadata": {},
   "outputs": [
    {
     "ename": "AssertionError",
     "evalue": "",
     "output_type": "error",
     "traceback": [
      "\u001b[0;31m---------------------------------------------------------------------------\u001b[0m",
      "\u001b[0;31mAssertionError\u001b[0m                            Traceback (most recent call last)",
      "Cell \u001b[0;32mIn[149], line 8\u001b[0m\n\u001b[1;32m      5\u001b[0m rb \u001b[38;5;241m=\u001b[39m random\u001b[38;5;241m.\u001b[39mgetrandbits(\u001b[38;5;241m256\u001b[39m)\n\u001b[1;32m      7\u001b[0m \u001b[38;5;66;03m# Bob's public key (Qb = kb * G)\u001b[39;00m\n\u001b[0;32m----> 8\u001b[0m Qb \u001b[38;5;241m=\u001b[39m apply_double_and_add_method(G \u001b[38;5;241m=\u001b[39m G, k \u001b[38;5;241m=\u001b[39m kb, p \u001b[38;5;241m=\u001b[39m p)\n\u001b[1;32m     10\u001b[0m \u001b[38;5;66;03m# Bob's random point (Rb = rb * G)\u001b[39;00m\n\u001b[1;32m     11\u001b[0m Rb \u001b[38;5;241m=\u001b[39m apply_double_and_add_method(G \u001b[38;5;241m=\u001b[39m G, k \u001b[38;5;241m=\u001b[39m rb, p \u001b[38;5;241m=\u001b[39m p)\n",
      "Cell \u001b[0;32mIn[147], line 19\u001b[0m, in \u001b[0;36mapply_double_and_add_method\u001b[0;34m(G, k, p)\u001b[0m\n\u001b[1;32m     16\u001b[0m current_bit \u001b[38;5;241m=\u001b[39m k_binary[i: i\u001b[38;5;241m+\u001b[39m\u001b[38;5;241m1\u001b[39m]                \u001b[38;5;66;03m# using [i: i+1] to split to remove 0b at the beggining\u001b[39;00m\n\u001b[1;32m     18\u001b[0m \u001b[38;5;66;03m# doubling - always\u001b[39;00m\n\u001b[0;32m---> 19\u001b[0m target_point \u001b[38;5;241m=\u001b[39m add_points(target_point, target_point, p)\n\u001b[1;32m     21\u001b[0m \u001b[38;5;28;01mif\u001b[39;00m current_bit \u001b[38;5;241m==\u001b[39m \u001b[38;5;124m\"\u001b[39m\u001b[38;5;124m1\u001b[39m\u001b[38;5;124m\"\u001b[39m:\n\u001b[1;32m     22\u001b[0m     target_point \u001b[38;5;241m=\u001b[39m add_points(target_point, G, p)\n",
      "Cell \u001b[0;32mIn[117], line 22\u001b[0m, in \u001b[0;36madd_points\u001b[0;34m(P, Q, p)\u001b[0m\n\u001b[1;32m     19\u001b[0m x3 \u001b[38;5;241m=\u001b[39m (beta \u001b[38;5;241m*\u001b[39m beta \u001b[38;5;241m-\u001b[39m x1 \u001b[38;5;241m-\u001b[39m x2) \u001b[38;5;241m%\u001b[39m p\n\u001b[1;32m     20\u001b[0m y3 \u001b[38;5;241m=\u001b[39m (beta \u001b[38;5;241m*\u001b[39m (x1 \u001b[38;5;241m-\u001b[39m x3) \u001b[38;5;241m-\u001b[39m y1) \u001b[38;5;241m%\u001b[39m p\n\u001b[0;32m---> 22\u001b[0m is_on_curve((x3, y3), p)                        \u001b[38;5;66;03m# make sure point P + Q is on curve \u001b[39;00m\n\u001b[1;32m     24\u001b[0m \u001b[38;5;28;01mreturn\u001b[39;00m x3, y3\n",
      "Cell \u001b[0;32mIn[118], line 11\u001b[0m, in \u001b[0;36mis_on_curve\u001b[0;34m(P, p)\u001b[0m\n\u001b[1;32m      2\u001b[0m \u001b[38;5;250m\u001b[39m\u001b[38;5;124;03m\"\"\"\u001b[39;00m\n\u001b[1;32m      3\u001b[0m \u001b[38;5;124;03mThis function Asserts that a point P is on the elliptic \u001b[39;00m\n\u001b[1;32m      4\u001b[0m \u001b[38;5;124;03mcurve defined by the equation y^2 ≡ x^3 + ax + b (mod p).\u001b[39;00m\n\u001b[0;32m   (...)\u001b[0m\n\u001b[1;32m      8\u001b[0m \u001b[38;5;124;03m:return: throws an error if P is not on the curve\u001b[39;00m\n\u001b[1;32m      9\u001b[0m \u001b[38;5;124;03m\"\"\"\u001b[39;00m\n\u001b[1;32m     10\u001b[0m x, y \u001b[38;5;241m=\u001b[39m P \n\u001b[0;32m---> 11\u001b[0m \u001b[38;5;28;01massert\u001b[39;00m (y \u001b[38;5;241m*\u001b[39m y) \u001b[38;5;241m%\u001b[39m p \u001b[38;5;241m==\u001b[39m (\u001b[38;5;28mpow\u001b[39m(x, \u001b[38;5;241m3\u001b[39m, p) \u001b[38;5;241m+\u001b[39m (a \u001b[38;5;241m*\u001b[39m x) \u001b[38;5;241m+\u001b[39m b) \u001b[38;5;241m%\u001b[39m p\n",
      "\u001b[0;31mAssertionError\u001b[0m: "
     ]
    }
   ],
   "source": [
    "# Bob's private key (random 256 bits ECC key)\n",
    "kb = random.getrandbits(256)\n",
    "\n",
    "# Bob's random key (secret)\n",
    "rb = random.getrandbits(256)\n",
    "\n",
    "# Bob's public key (Qb = kb * G)\n",
    "Qb = apply_double_and_add_method(G = G, k = kb, p = p)\n",
    "\n",
    "# Bob's random point (Rb = rb * G)\n",
    "Rb = apply_double_and_add_method(G = G, k = rb, p = p)"
   ]
  },
  {
   "cell_type": "code",
   "execution_count": 150,
   "id": "1adef6f4",
   "metadata": {},
   "outputs": [],
   "source": [
    "import math\n",
    "\n",
    "# Calculate the value of l\n",
    "# - Calculate the floor of the logarithm of n to the base 2\n",
    "# - Add 1 to the result\n",
    "# - Take the floor of the entire expression\n",
    "# - Divide the result by 2\n",
    "# - Take the ceiling of the final result\n",
    "\n",
    "l = math.ceil((math.floor(math.log(n, 2)) + 1) / 2)"
   ]
  },
  {
   "cell_type": "code",
   "execution_count": 151,
   "id": "1b9a90f0",
   "metadata": {},
   "outputs": [],
   "source": [
    "def bar(P: tuple):\n",
    "    \"\"\"\n",
    "    This functions calculates the 'bar' value for a given point on an elliptic curve.\n",
    "\n",
    "    :param P: Point tuple (x, y) on the elliptic curve\n",
    "    :return: 'bar' value calculated using the specified formula\n",
    "    \n",
    "    \"\"\"\n",
    "    x, y = P \n",
    "    \n",
    "    # Calculate the 'bar' value using the given formula:\n",
    "    # - Take the remainder of x divided by 2^l\n",
    "    # - Add 2^l to the result\n",
    "    \n",
    "    bar_value = ( x % pow(2, l) ) + pow(2, l)\n",
    "    return bar_value "
   ]
  },
  {
   "cell_type": "code",
   "execution_count": 152,
   "id": "e954b211",
   "metadata": {},
   "outputs": [],
   "source": [
    "# Calculate Alice's signature\n",
    "# - Compute bar(Ra) using the 'bar' function for Alice's random point Ra\n",
    "# - Multiply bar(Ra) by Alice's private key ka\n",
    "# - Add Alice's random key ra to the result\n",
    "# - Take the modulus of the sum with the order of the base point n\n",
    "\n",
    "sa = ( ra + bar(Ra) * ka ) % n"
   ]
  },
  {
   "cell_type": "code",
   "execution_count": 153,
   "id": "f1859d22",
   "metadata": {},
   "outputs": [],
   "source": [
    "# Calculate Bob's signature\n",
    "# - Compute bar(Rb) using the 'bar' function for Bob's random point Rb\n",
    "# - Multiply bar(Rb) by Bob's private key kb\n",
    "# - Add Bob's random key rb to the result\n",
    "# - Take the modulus of the sum with the order of the base point n\n",
    "\n",
    "sb = ( rb + bar(Rb) * kb ) % n "
   ]
  },
  {
   "cell_type": "code",
   "execution_count": 154,
   "id": "2e02e1f0",
   "metadata": {},
   "outputs": [
    {
     "ename": "AssertionError",
     "evalue": "",
     "output_type": "error",
     "traceback": [
      "\u001b[0;31m---------------------------------------------------------------------------\u001b[0m",
      "\u001b[0;31mAssertionError\u001b[0m                            Traceback (most recent call last)",
      "Cell \u001b[0;32mIn[154], line 4\u001b[0m\n\u001b[1;32m      1\u001b[0m \u001b[38;5;66;03m# Key Exchange for Alice\u001b[39;00m\n\u001b[1;32m      2\u001b[0m \u001b[38;5;66;03m# Ja = h * sa * (Rb + bar(Rb) * Qb)\u001b[39;00m\n\u001b[0;32m----> 4\u001b[0m Ja \u001b[38;5;241m=\u001b[39m apply_double_and_add_method(G \u001b[38;5;241m=\u001b[39m Qb, k \u001b[38;5;241m=\u001b[39m bar(Rb), p \u001b[38;5;241m=\u001b[39m p)\n\u001b[1;32m      5\u001b[0m Ja \u001b[38;5;241m=\u001b[39m add_points(P \u001b[38;5;241m=\u001b[39m Ja, Q \u001b[38;5;241m=\u001b[39m Rb, p \u001b[38;5;241m=\u001b[39m p)\n\u001b[1;32m      6\u001b[0m Ja \u001b[38;5;241m=\u001b[39m apply_double_and_add_method(G \u001b[38;5;241m=\u001b[39m Ja, k \u001b[38;5;241m=\u001b[39m h \u001b[38;5;241m*\u001b[39m sa, p \u001b[38;5;241m=\u001b[39m p)\n",
      "Cell \u001b[0;32mIn[147], line 19\u001b[0m, in \u001b[0;36mapply_double_and_add_method\u001b[0;34m(G, k, p)\u001b[0m\n\u001b[1;32m     16\u001b[0m current_bit \u001b[38;5;241m=\u001b[39m k_binary[i: i\u001b[38;5;241m+\u001b[39m\u001b[38;5;241m1\u001b[39m]                \u001b[38;5;66;03m# using [i: i+1] to split to remove 0b at the beggining\u001b[39;00m\n\u001b[1;32m     18\u001b[0m \u001b[38;5;66;03m# doubling - always\u001b[39;00m\n\u001b[0;32m---> 19\u001b[0m target_point \u001b[38;5;241m=\u001b[39m add_points(target_point, target_point, p)\n\u001b[1;32m     21\u001b[0m \u001b[38;5;28;01mif\u001b[39;00m current_bit \u001b[38;5;241m==\u001b[39m \u001b[38;5;124m\"\u001b[39m\u001b[38;5;124m1\u001b[39m\u001b[38;5;124m\"\u001b[39m:\n\u001b[1;32m     22\u001b[0m     target_point \u001b[38;5;241m=\u001b[39m add_points(target_point, G, p)\n",
      "Cell \u001b[0;32mIn[117], line 22\u001b[0m, in \u001b[0;36madd_points\u001b[0;34m(P, Q, p)\u001b[0m\n\u001b[1;32m     19\u001b[0m x3 \u001b[38;5;241m=\u001b[39m (beta \u001b[38;5;241m*\u001b[39m beta \u001b[38;5;241m-\u001b[39m x1 \u001b[38;5;241m-\u001b[39m x2) \u001b[38;5;241m%\u001b[39m p\n\u001b[1;32m     20\u001b[0m y3 \u001b[38;5;241m=\u001b[39m (beta \u001b[38;5;241m*\u001b[39m (x1 \u001b[38;5;241m-\u001b[39m x3) \u001b[38;5;241m-\u001b[39m y1) \u001b[38;5;241m%\u001b[39m p\n\u001b[0;32m---> 22\u001b[0m is_on_curve((x3, y3), p)                        \u001b[38;5;66;03m# make sure point P + Q is on curve \u001b[39;00m\n\u001b[1;32m     24\u001b[0m \u001b[38;5;28;01mreturn\u001b[39;00m x3, y3\n",
      "Cell \u001b[0;32mIn[118], line 11\u001b[0m, in \u001b[0;36mis_on_curve\u001b[0;34m(P, p)\u001b[0m\n\u001b[1;32m      2\u001b[0m \u001b[38;5;250m\u001b[39m\u001b[38;5;124;03m\"\"\"\u001b[39;00m\n\u001b[1;32m      3\u001b[0m \u001b[38;5;124;03mThis function Asserts that a point P is on the elliptic \u001b[39;00m\n\u001b[1;32m      4\u001b[0m \u001b[38;5;124;03mcurve defined by the equation y^2 ≡ x^3 + ax + b (mod p).\u001b[39;00m\n\u001b[0;32m   (...)\u001b[0m\n\u001b[1;32m      8\u001b[0m \u001b[38;5;124;03m:return: throws an error if P is not on the curve\u001b[39;00m\n\u001b[1;32m      9\u001b[0m \u001b[38;5;124;03m\"\"\"\u001b[39;00m\n\u001b[1;32m     10\u001b[0m x, y \u001b[38;5;241m=\u001b[39m P \n\u001b[0;32m---> 11\u001b[0m \u001b[38;5;28;01massert\u001b[39;00m (y \u001b[38;5;241m*\u001b[39m y) \u001b[38;5;241m%\u001b[39m p \u001b[38;5;241m==\u001b[39m (\u001b[38;5;28mpow\u001b[39m(x, \u001b[38;5;241m3\u001b[39m, p) \u001b[38;5;241m+\u001b[39m (a \u001b[38;5;241m*\u001b[39m x) \u001b[38;5;241m+\u001b[39m b) \u001b[38;5;241m%\u001b[39m p\n",
      "\u001b[0;31mAssertionError\u001b[0m: "
     ]
    }
   ],
   "source": [
    "# Key Exchange for Alice\n",
    "# Ja = h * sa * (Rb + bar(Rb) * Qb)\n",
    "\n",
    "Ja = apply_double_and_add_method(G = Qb, k = bar(Rb), p = p)\n",
    "Ja = add_points(P = Ja, Q = Rb, p = p)\n",
    "Ja = apply_double_and_add_method(G = Ja, k = h * sa, p = p)"
   ]
  },
  {
   "cell_type": "code",
   "execution_count": 155,
   "id": "f3ee2d26",
   "metadata": {},
   "outputs": [
    {
     "ename": "AssertionError",
     "evalue": "",
     "output_type": "error",
     "traceback": [
      "\u001b[0;31m---------------------------------------------------------------------------\u001b[0m",
      "\u001b[0;31mAssertionError\u001b[0m                            Traceback (most recent call last)",
      "Cell \u001b[0;32mIn[155], line 4\u001b[0m\n\u001b[1;32m      1\u001b[0m \u001b[38;5;66;03m# Key Exchange for Bob\u001b[39;00m\n\u001b[1;32m      2\u001b[0m \u001b[38;5;66;03m# Jb = h * sb * (Ra + bar(Ra) * Qa)\u001b[39;00m\n\u001b[0;32m----> 4\u001b[0m Jb \u001b[38;5;241m=\u001b[39m apply_double_and_add_method(G \u001b[38;5;241m=\u001b[39m Qa, k \u001b[38;5;241m=\u001b[39m bar(Ra), p \u001b[38;5;241m=\u001b[39m p)\n\u001b[1;32m      5\u001b[0m Jb \u001b[38;5;241m=\u001b[39m add_points(P \u001b[38;5;241m=\u001b[39m Jb, Q \u001b[38;5;241m=\u001b[39m Ra, p \u001b[38;5;241m=\u001b[39m p)\n\u001b[1;32m      6\u001b[0m Jb \u001b[38;5;241m=\u001b[39m apply_double_and_add_method(G \u001b[38;5;241m=\u001b[39m Jb, k \u001b[38;5;241m=\u001b[39m h \u001b[38;5;241m*\u001b[39m sb, p \u001b[38;5;241m=\u001b[39m p)\n",
      "Cell \u001b[0;32mIn[147], line 19\u001b[0m, in \u001b[0;36mapply_double_and_add_method\u001b[0;34m(G, k, p)\u001b[0m\n\u001b[1;32m     16\u001b[0m current_bit \u001b[38;5;241m=\u001b[39m k_binary[i: i\u001b[38;5;241m+\u001b[39m\u001b[38;5;241m1\u001b[39m]                \u001b[38;5;66;03m# using [i: i+1] to split to remove 0b at the beggining\u001b[39;00m\n\u001b[1;32m     18\u001b[0m \u001b[38;5;66;03m# doubling - always\u001b[39;00m\n\u001b[0;32m---> 19\u001b[0m target_point \u001b[38;5;241m=\u001b[39m add_points(target_point, target_point, p)\n\u001b[1;32m     21\u001b[0m \u001b[38;5;28;01mif\u001b[39;00m current_bit \u001b[38;5;241m==\u001b[39m \u001b[38;5;124m\"\u001b[39m\u001b[38;5;124m1\u001b[39m\u001b[38;5;124m\"\u001b[39m:\n\u001b[1;32m     22\u001b[0m     target_point \u001b[38;5;241m=\u001b[39m add_points(target_point, G, p)\n",
      "Cell \u001b[0;32mIn[117], line 22\u001b[0m, in \u001b[0;36madd_points\u001b[0;34m(P, Q, p)\u001b[0m\n\u001b[1;32m     19\u001b[0m x3 \u001b[38;5;241m=\u001b[39m (beta \u001b[38;5;241m*\u001b[39m beta \u001b[38;5;241m-\u001b[39m x1 \u001b[38;5;241m-\u001b[39m x2) \u001b[38;5;241m%\u001b[39m p\n\u001b[1;32m     20\u001b[0m y3 \u001b[38;5;241m=\u001b[39m (beta \u001b[38;5;241m*\u001b[39m (x1 \u001b[38;5;241m-\u001b[39m x3) \u001b[38;5;241m-\u001b[39m y1) \u001b[38;5;241m%\u001b[39m p\n\u001b[0;32m---> 22\u001b[0m is_on_curve((x3, y3), p)                        \u001b[38;5;66;03m# make sure point P + Q is on curve \u001b[39;00m\n\u001b[1;32m     24\u001b[0m \u001b[38;5;28;01mreturn\u001b[39;00m x3, y3\n",
      "Cell \u001b[0;32mIn[118], line 11\u001b[0m, in \u001b[0;36mis_on_curve\u001b[0;34m(P, p)\u001b[0m\n\u001b[1;32m      2\u001b[0m \u001b[38;5;250m\u001b[39m\u001b[38;5;124;03m\"\"\"\u001b[39;00m\n\u001b[1;32m      3\u001b[0m \u001b[38;5;124;03mThis function Asserts that a point P is on the elliptic \u001b[39;00m\n\u001b[1;32m      4\u001b[0m \u001b[38;5;124;03mcurve defined by the equation y^2 ≡ x^3 + ax + b (mod p).\u001b[39;00m\n\u001b[0;32m   (...)\u001b[0m\n\u001b[1;32m      8\u001b[0m \u001b[38;5;124;03m:return: throws an error if P is not on the curve\u001b[39;00m\n\u001b[1;32m      9\u001b[0m \u001b[38;5;124;03m\"\"\"\u001b[39;00m\n\u001b[1;32m     10\u001b[0m x, y \u001b[38;5;241m=\u001b[39m P \n\u001b[0;32m---> 11\u001b[0m \u001b[38;5;28;01massert\u001b[39;00m (y \u001b[38;5;241m*\u001b[39m y) \u001b[38;5;241m%\u001b[39m p \u001b[38;5;241m==\u001b[39m (\u001b[38;5;28mpow\u001b[39m(x, \u001b[38;5;241m3\u001b[39m, p) \u001b[38;5;241m+\u001b[39m (a \u001b[38;5;241m*\u001b[39m x) \u001b[38;5;241m+\u001b[39m b) \u001b[38;5;241m%\u001b[39m p\n",
      "\u001b[0;31mAssertionError\u001b[0m: "
     ]
    }
   ],
   "source": [
    "# Key Exchange for Bob\n",
    "# Jb = h * sb * (Ra + bar(Ra) * Qa)\n",
    "\n",
    "Jb = apply_double_and_add_method(G = Qa, k = bar(Ra), p = p)\n",
    "Jb = add_points(P = Jb, Q = Ra, p = p)\n",
    "Jb = apply_double_and_add_method(G = Jb, k = h * sb, p = p)"
   ]
  },
  {
   "cell_type": "code",
   "execution_count": 156,
   "id": "1581c3ab",
   "metadata": {},
   "outputs": [
    {
     "data": {
      "text/plain": [
       "(8923826601088063093366316197431669676002319054441136693866326429415075532911,\n",
       " 9392651680081678033833376777612655000117902637013004588274973687795376807878)"
      ]
     },
     "execution_count": 156,
     "metadata": {},
     "output_type": "execute_result"
    }
   ],
   "source": [
    "Ja"
   ]
  },
  {
   "cell_type": "code",
   "execution_count": 157,
   "id": "a3a4a917",
   "metadata": {},
   "outputs": [
    {
     "data": {
      "text/plain": [
       "(8923826601088063093366316197431669676002319054441136693866326429415075532911,\n",
       " 9392651680081678033833376777612655000117902637013004588274973687795376807878)"
      ]
     },
     "execution_count": 157,
     "metadata": {},
     "output_type": "execute_result"
    }
   ],
   "source": [
    "Jb"
   ]
  },
  {
   "cell_type": "code",
   "execution_count": null,
   "id": "32ab8313",
   "metadata": {},
   "outputs": [],
   "source": []
  },
  {
   "cell_type": "code",
   "execution_count": 158,
   "id": "3af3fc92",
   "metadata": {},
   "outputs": [],
   "source": [
    "def derive_keys(T: tuple):\n",
    "    \"\"\"\n",
    "    This function derives two 128-bit keys (k1 and k2) from a given point on an elliptic curve.\n",
    "    \n",
    "    :param T: point tuple (x, y) on the elliptic curve\n",
    "    :return: two 128-bit keys (k1, k2) derived from the point T\n",
    "    \n",
    "    \"\"\"\n",
    "    \n",
    "    tx, ty = T\n",
    "     \n",
    "    # Convert x-coordinate of the point to binary\n",
    "    tx_binary = bin(tx)[2:]\n",
    "     \n",
    "    # Crop to 192 bits (considering 192 bits for SHA-256)\n",
    "    tx_binary_cropped = tx_binary[0:192]\n",
    "     \n",
    "    # Restore the cropped binary to an integer\n",
    "    tx_restored = int(tx_binary_cropped, 2)\n",
    "     \n",
    "    # Compute SHA-256 hash of the restored integer\n",
    "    hash_hex = hashlib.sha256(\n",
    "        str.encode(str(tx_restored))\n",
    "    ).hexdigest()\n",
    "    \n",
    "    # Convert the hash from hexadecimal to binary\n",
    "    hash_binary = bin(int(hash_hex, 16))[2:]\n",
    "     \n",
    "    # Extract two 128-bit keys from the binary hash\n",
    "    k1 = int(hash_binary[0:128], 2).to_bytes(16, byteorder=\"big\")\n",
    "    k2 = int(hash_binary[128:], 2).to_bytes(16, byteorder=\"big\")\n",
    "     \n",
    "    return k1, k2"
   ]
  },
  {
   "cell_type": "code",
   "execution_count": 159,
   "id": "eacc5380",
   "metadata": {},
   "outputs": [],
   "source": [
    "import hashlib\n",
    "\n",
    "# Bob uses KDF and gets k1, k2 pair\n",
    "k1b, k2b = derive_keys(Jb)\n",
    " \n",
    "# Alice uses KDF to find k1, k2 pair\n",
    "k1a, k2a = derive_keys(Ja)\n",
    "\n",
    "# Assert that the derived key pairs for Alice and Bob are equal\n",
    "assert k1a == k1b\n",
    "assert k2a == k2b"
   ]
  },
  {
   "cell_type": "code",
   "execution_count": 160,
   "id": "eca21ec3",
   "metadata": {},
   "outputs": [],
   "source": [
    "def find_mac(message, key):\n",
    "    \"\"\"\n",
    "    This function computes the Message Authentication Code (MAC) using HMAC-SHA256.\n",
    "\n",
    "    :param message: message for which MAC is calculated\n",
    "    :param key: key used for HMAC\n",
    "    :return: Hexadecimal representation of the computed MAC\n",
    "    \n",
    "    \"\"\"\n",
    "    return hmac.new(\n",
    "        key, \n",
    "        message, \n",
    "        hashlib.sha256\n",
    "    ).hexdigest()"
   ]
  },
  {
   "cell_type": "code",
   "execution_count": 161,
   "id": "9971ecf4",
   "metadata": {},
   "outputs": [],
   "source": [
    "import hmac\n",
    "\n",
    "# Bob finds MAC for the message with k2 key\n",
    "# Notice that an attacker does not know k2, so the attacker cannot find tb\n",
    "msg = f\"2BobAlice{Rb[0]}{Rb[1]}{Ra[0]}{Ra[1]}\"\n",
    "tb = find_mac(message = bytes(msg, \"utf-8\"), key = k2b)\n",
    " \n",
    "# Alice uses k2 to validate tb coming from Bob\n",
    "msg = f\"2BobAlice{Rb[0]}{Rb[1]}{Ra[0]}{Ra[1]}\"\n",
    "t = find_mac(message = bytes(msg, \"utf-8\"), key = k2a)\n",
    "assert t == tb\n",
    " \n",
    "# Then Alice finds the mac of the message with k2 key\n",
    "# Notice that Bob already knows k2, so they can validate ta\n",
    "msg = f\"2AliceBob{Ra[0]}{Ra[1]}{Rb[0]}{Rb[1]}\"\n",
    "ta = find_mac(message = bytes(msg, \"utf-8\"), key = k2a)\n",
    " \n",
    "# Now Alice sends ta to Bob\n",
    " \n",
    "# Bob verifies ta coming from Alice\n",
    "msg = f\"2AliceBob{Ra[0]}{Ra[1]}{Rb[0]}{Rb[1]}\"\n",
    "t = find_mac(message = bytes(msg, \"utf-8\"), key = k2b)\n",
    "assert t == ta"
   ]
  },
  {
   "cell_type": "code",
   "execution_count": 162,
   "id": "a384138c",
   "metadata": {},
   "outputs": [
    {
     "name": "stdout",
     "output_type": "stream",
     "text": [
      "ciphertext: b'rq5\\xcf\\xa9\\xa09w\\xc2\\xdf\\x94b\\xaeQ \\x7f'\n"
     ]
    }
   ],
   "source": [
    "from Crypto.Cipher import AES\n",
    "\n",
    "# Bob will encrypt a message with k1b\n",
    "msg = \"MATH206 was fun!\"\n",
    "\n",
    "# Create an AES object with k1b in EAX mode\n",
    "obj_bob = AES.new(k1b, AES.MODE_EAX)\n",
    "\n",
    "# Encrypt and digest the message\n",
    "ciphertext, tag = obj_bob.encrypt_and_digest(msg.encode())\n",
    "\n",
    "# Print the ciphertext\n",
    "print(f\"ciphertext: {ciphertext}\")"
   ]
  },
  {
   "cell_type": "code",
   "execution_count": 163,
   "id": "28b8380c",
   "metadata": {},
   "outputs": [
    {
     "name": "stdout",
     "output_type": "stream",
     "text": [
      "restored plaintext: MATH206 was fun!\n"
     ]
    }
   ],
   "source": [
    "# Alice will decrypt a message with k1a\n",
    "\n",
    "# Create an AES object for Alice using k1a, EAX mode, and the nonce from Bob's encryption\n",
    "obj_alice = AES.new(k1a, AES.MODE_EAX, nonce=obj_bob.nonce)\n",
    "\n",
    "# Decrypt the ciphertext\n",
    "plaintext = obj_alice.decrypt(ciphertext)\n",
    "\n",
    "try:\n",
    "    # Verify the authenticity of the message using the tag\n",
    "    obj_alice.verify(tag)\n",
    "    print(f\"restored plaintext: {plaintext.decode()}\")\n",
    "except ValueError:\n",
    "    print(\"Decryption failed.\")"
   ]
  },
  {
   "cell_type": "code",
   "execution_count": null,
   "id": "b8d37db2",
   "metadata": {},
   "outputs": [],
   "source": []
  },
  {
   "cell_type": "code",
   "execution_count": null,
   "id": "1e6c0a7f",
   "metadata": {},
   "outputs": [],
   "source": []
  },
  {
   "cell_type": "code",
   "execution_count": null,
   "id": "a59ff769",
   "metadata": {},
   "outputs": [],
   "source": []
  },
  {
   "cell_type": "code",
   "execution_count": null,
   "id": "5d3c893d",
   "metadata": {},
   "outputs": [],
   "source": []
  },
  {
   "cell_type": "code",
   "execution_count": null,
   "id": "9c54033e",
   "metadata": {},
   "outputs": [],
   "source": []
  },
  {
   "cell_type": "code",
   "execution_count": null,
   "id": "b3cd4324",
   "metadata": {},
   "outputs": [],
   "source": []
  },
  {
   "cell_type": "code",
   "execution_count": null,
   "id": "77191698",
   "metadata": {},
   "outputs": [],
   "source": []
  },
  {
   "cell_type": "code",
   "execution_count": null,
   "id": "2995cd5b",
   "metadata": {},
   "outputs": [],
   "source": []
  },
  {
   "cell_type": "code",
   "execution_count": null,
   "id": "0e77a300",
   "metadata": {},
   "outputs": [],
   "source": []
  },
  {
   "cell_type": "code",
   "execution_count": null,
   "id": "ae1969c0",
   "metadata": {},
   "outputs": [],
   "source": []
  },
  {
   "cell_type": "code",
   "execution_count": null,
   "id": "ac225474",
   "metadata": {},
   "outputs": [],
   "source": []
  },
  {
   "cell_type": "markdown",
   "id": "6ffab01e",
   "metadata": {},
   "source": [
    "# The rest of the code in this notebook is used for testing. You can ignore it."
   ]
  },
  {
   "cell_type": "code",
   "execution_count": 55,
   "id": "d3ac4984",
   "metadata": {},
   "outputs": [],
   "source": [
    "# x1 = []\n",
    "# y1 = []"
   ]
  },
  {
   "cell_type": "code",
   "execution_count": 56,
   "id": "5e4c22e4",
   "metadata": {},
   "outputs": [],
   "source": [
    "# ### HOW MUCH TIME? COMP EFFIC. FIGURE 3: \n",
    "\n",
    "# import time\n",
    "\n",
    "\n",
    "\n",
    "\n",
    "# # find how many seconds it takes to find \n",
    "\n",
    "\n",
    "\n",
    "# # apply add_points method 1000 times \n",
    "# n = 1000000\n",
    "\n",
    "    \n",
    "\n",
    "# start_time1 = time.time()\n",
    "    \n",
    "# for i in range(2,n):\n",
    "#     init_point = add_points(init_point, G, p)\n",
    "\n",
    "# seconds_add_method = time.time() - start_time1\n",
    "\n",
    "# x1.append(n)\n",
    "# y1.append(seconds_add_method)\n",
    "    \n",
    "# #     print(i)\n",
    "\n",
    "\n",
    "\n",
    "# # start_time2 = time.time()\n",
    "\n",
    "\n",
    "# # apply_double_and_add_method(G, 100000, p)\n",
    "\n",
    "\n",
    "# # seconds_double_and_add_method = time.time() - start_time2\n",
    "\n",
    "\n",
    "# # print(seconds_add_method)\n",
    "# print(x1)\n",
    "# print(y1)"
   ]
  },
  {
   "cell_type": "code",
   "execution_count": 57,
   "id": "5ad0bea9",
   "metadata": {},
   "outputs": [],
   "source": [
    "# x2 = []\n",
    "# y2 = []"
   ]
  },
  {
   "cell_type": "code",
   "execution_count": 58,
   "id": "b87da2ab",
   "metadata": {},
   "outputs": [],
   "source": [
    "# n = 1000000\n",
    "\n",
    "# start_time2 = time.time()\n",
    "\n",
    "# apply_double_and_add_method(G, n, p)\n",
    "\n",
    "\n",
    "# seconds_double_and_add_method = time.time() - start_time2\n",
    "\n",
    "# x2.append(n)\n",
    "# y2.append(seconds_double_and_add_method)\n",
    "\n",
    "# print(x2, y2)"
   ]
  },
  {
   "cell_type": "code",
   "execution_count": null,
   "id": "40649e56",
   "metadata": {},
   "outputs": [],
   "source": []
  },
  {
   "cell_type": "code",
   "execution_count": null,
   "id": "329ade97",
   "metadata": {},
   "outputs": [],
   "source": []
  },
  {
   "cell_type": "code",
   "execution_count": null,
   "id": "5715cb21",
   "metadata": {},
   "outputs": [],
   "source": []
  },
  {
   "cell_type": "code",
   "execution_count": null,
   "id": "096d4068",
   "metadata": {},
   "outputs": [],
   "source": []
  },
  {
   "cell_type": "code",
   "execution_count": null,
   "id": "95479d67",
   "metadata": {},
   "outputs": [],
   "source": []
  },
  {
   "cell_type": "code",
   "execution_count": 59,
   "id": "18fab2f0",
   "metadata": {},
   "outputs": [],
   "source": [
    "\n",
    "# plt.plot(x1, y1, label='add_points_method')\n",
    "# plt.plot(x2, y2, label='double_and_add_method')\n",
    "# plt.xlabel('Iteration')\n",
    "# plt.ylabel('Execution Time (seconds)')\n",
    "# plt.legend()\n",
    "# plt.show()\n",
    "\n",
    "\n"
   ]
  },
  {
   "cell_type": "code",
   "execution_count": null,
   "id": "aec752fa",
   "metadata": {},
   "outputs": [],
   "source": []
  },
  {
   "cell_type": "code",
   "execution_count": null,
   "id": "d9eab2b5",
   "metadata": {},
   "outputs": [],
   "source": []
  },
  {
   "cell_type": "code",
   "execution_count": 112,
   "id": "cf96d066",
   "metadata": {},
   "outputs": [],
   "source": [
    "# from cryptography.hazmat.primitives import serialization\n",
    "# from cryptography.hazmat.backends import default_backend\n",
    "# from cryptography.hazmat.primitives.asymmetric import ec\n",
    "\n",
    "\n",
    "# def generate_ecmqv_keys():\n",
    "#     private_key = ec.generate_private_key(ec.SECP256R1(), default_backend())\n",
    "#     public_key = private_key.public_key()\n",
    "\n",
    "#     # Serialize private and public keys\n",
    "#     private_key_bytes = private_key.private_bytes(\n",
    "#         encoding=serialization.Encoding.PEM,\n",
    "#         format=serialization.PrivateFormat.PKCS8,\n",
    "#         encryption_algorithm=serialization.NoEncryption()\n",
    "#     )\n",
    "\n",
    "#     public_key_bytes = public_key.public_bytes(\n",
    "#         encoding=serialization.Encoding.PEM,\n",
    "#         format=serialization.PublicFormat.SubjectPublicKeyInfo\n",
    "#     )\n",
    "\n",
    "#     return private_key_bytes, public_key_bytes\n",
    "\n",
    "\n",
    "# private_key, public_key = generate_ecmqv_keys()\n",
    "# print(private_key.decode(), \"\\n\", public_key.decode())"
   ]
  },
  {
   "cell_type": "markdown",
   "id": "18e9b499",
   "metadata": {},
   "source": []
  },
  {
   "cell_type": "code",
   "execution_count": 113,
   "id": "a684903a",
   "metadata": {},
   "outputs": [],
   "source": [
    "# from cryptography.hazmat.primitives import serialization\n",
    "# from cryptography.hazmat.primitives.kdf.hkdf import HKDF\n",
    "# from cryptography.hazmat.primitives import hashes\n",
    "# from cryptography.fernet import Fernet\n",
    "# import base64\n",
    "# from cryptography.hazmat.primitives import padding\n",
    "# from cryptography.hazmat.primitives.ciphers import Cipher, algorithms, modes\n",
    "\n",
    "\n",
    "\n",
    "# def ec_mqv_encryption(private_key_bytes, peer_public_key_bytes, plaintext):\n",
    "#     # Deserialize the private key\n",
    "#     private_key = serialization.load_pem_private_key(\n",
    "#         private_key_bytes,\n",
    "#         password=None,\n",
    "#         backend=default_backend()\n",
    "#     )\n",
    "\n",
    "#     # Deserialize the public key\n",
    "#     peer_public_key = serialization.load_pem_public_key(\n",
    "#         peer_public_key_bytes,\n",
    "#         backend=default_backend()\n",
    "#     )\n",
    "\n",
    "#     # Ensure that both private and public keys use the same elliptic curve\n",
    "#     if private_key.curve.name != peer_public_key.curve.name:\n",
    "#         raise ValueError(\"Elliptic curves of private and public keys do not match\")\n",
    "\n",
    "#     # Derive shared secret from the key exchange\n",
    "#     shared_secret = private_key.exchange(ec.ECDH(), peer_public_key)\n",
    "\n",
    "#     # Derive the same encryption key from the shared secret using HKDF\n",
    "#     derived_key = HKDF(\n",
    "#         algorithm=hashes.SHA256(),\n",
    "#         length=32,  # AES-256 key size\n",
    "#         salt=None,\n",
    "#         info=b'ec_mqv_encryption',\n",
    "#         backend=default_backend()\n",
    "#     ).derive(shared_secret)\n",
    "\n",
    "#     # Apply padding to the plaintext before encryption\n",
    "#     padder = padding.PKCS7(algorithms.AES.block_size).padder()\n",
    "#     plaintext_padded = padder.update(plaintext) + padder.finalize()\n",
    "\n",
    "#     # Perform encryption using the derived key\n",
    "#     encryptor = Cipher(algorithms.AES(derived_key), modes.ECB(), backend=default_backend()).encryptor()\n",
    "#     ciphertext = encryptor.update(plaintext_padded) + encryptor.finalize()\n",
    "\n",
    "#     return ciphertext\n",
    "\n",
    "\n",
    "# plaintext = b\"My name is Ahmed, a sohomore at Haverford College and this is my final project for MATH206\"\n",
    "# ciphertext = ec_mqv_encryption(private_key, public_key, plaintext)\n",
    "# print(\"Ciphertext:\", ciphertext)"
   ]
  },
  {
   "cell_type": "code",
   "execution_count": null,
   "id": "a6954552",
   "metadata": {},
   "outputs": [],
   "source": []
  },
  {
   "cell_type": "code",
   "execution_count": 115,
   "id": "017debea",
   "metadata": {
    "scrolled": true
   },
   "outputs": [],
   "source": [
    "# from cryptography.hazmat.backends import default_backend\n",
    "# from cryptography.hazmat.primitives import serialization\n",
    "# from cryptography.hazmat.primitives.asymmetric import ec\n",
    "# from cryptography.hazmat.primitives.kdf.hkdf import HKDF\n",
    "# from cryptography.hazmat.primitives import hashes\n",
    "\n",
    "\n",
    "\n",
    "# def ec_mqv_decryption(private_key_bytes, peer_public_key_bytes, ciphertext):\n",
    "#     # Deserialize the private key\n",
    "#     private_key = serialization.load_pem_private_key(\n",
    "#         private_key_bytes,\n",
    "#         password=None,\n",
    "#         backend=default_backend()\n",
    "#     )\n",
    "\n",
    "#     # Deserialize the public key\n",
    "#     peer_public_key = serialization.load_pem_public_key(\n",
    "#         peer_public_key_bytes,\n",
    "#         backend=default_backend()\n",
    "#     )\n",
    "\n",
    "#     # Ensure that both private and public keys use the same elliptic curve\n",
    "#     if private_key.curve.name != peer_public_key.curve.name:\n",
    "#         raise ValueError(\"Elliptic curves of private and public keys do not match\")\n",
    "\n",
    "#     # Derive shared secret from the key exchange\n",
    "#     shared_secret = private_key.exchange(ec.ECDH(), peer_public_key)\n",
    "\n",
    "#     # Derive the same encryption key from the shared secret using HKDF\n",
    "#     derived_key = HKDF(\n",
    "#         algorithm=hashes.SHA256(),\n",
    "#         length=32,  # AES-256 key size\n",
    "#         salt=None,\n",
    "#         info=b'ec_mqv_encryption',\n",
    "#         backend=default_backend()\n",
    "#     ).derive(shared_secret)\n",
    "\n",
    "#     # Perform decryption using the derived key\n",
    "#     decryptor = Cipher(algorithms.AES(derived_key), modes.ECB(), backend=default_backend()).decryptor()\n",
    "\n",
    "#     # Decrypt ciphertext\n",
    "#     plaintext_padded = decryptor.update(ciphertext) + decryptor.finalize()\n",
    "\n",
    "#     # Remove padding after decryption\n",
    "#     unpadder = padding.PKCS7(algorithms.AES.block_size).unpadder()\n",
    "#     plaintext = unpadder.update(plaintext_padded) + unpadder.finalize()\n",
    "\n",
    "#     return plaintext\n",
    "\n",
    "\n",
    "\n",
    "# decrypted_text = ec_mqv_decryption(private_key, public_key, ciphertext)\n",
    "# print(\"Decrypted Text:\", decrypted_text.decode())"
   ]
  },
  {
   "cell_type": "code",
   "execution_count": null,
   "id": "790bd03a",
   "metadata": {},
   "outputs": [],
   "source": []
  },
  {
   "cell_type": "code",
   "execution_count": null,
   "id": "be108342",
   "metadata": {},
   "outputs": [],
   "source": []
  },
  {
   "cell_type": "code",
   "execution_count": null,
   "id": "1a293ecd",
   "metadata": {},
   "outputs": [],
   "source": []
  },
  {
   "cell_type": "code",
   "execution_count": null,
   "id": "1088fd4f",
   "metadata": {},
   "outputs": [],
   "source": []
  },
  {
   "cell_type": "code",
   "execution_count": null,
   "id": "042ca25a",
   "metadata": {},
   "outputs": [],
   "source": []
  },
  {
   "cell_type": "code",
   "execution_count": null,
   "id": "5e27a94b",
   "metadata": {},
   "outputs": [],
   "source": []
  },
  {
   "cell_type": "code",
   "execution_count": null,
   "id": "7613809e",
   "metadata": {},
   "outputs": [],
   "source": []
  }
 ],
 "metadata": {
  "kernelspec": {
   "display_name": "Python 3 (ipykernel)",
   "language": "python",
   "name": "python3"
  },
  "language_info": {
   "codemirror_mode": {
    "name": "ipython",
    "version": 3
   },
   "file_extension": ".py",
   "mimetype": "text/x-python",
   "name": "python",
   "nbconvert_exporter": "python",
   "pygments_lexer": "ipython3",
   "version": "3.11.3"
  }
 },
 "nbformat": 4,
 "nbformat_minor": 5
}
