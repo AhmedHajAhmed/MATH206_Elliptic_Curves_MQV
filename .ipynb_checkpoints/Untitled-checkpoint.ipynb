{
 "cells": [
  {
   "cell_type": "code",
   "execution_count": null,
   "id": "4649f4cc",
   "metadata": {},
   "outputs": [],
   "source": []
  },
  {
   "cell_type": "code",
   "execution_count": 33,
   "id": "ed17af0d",
   "metadata": {},
   "outputs": [],
   "source": [
    "def add_points(P: tuple, Q: tuple, p: int):\n",
    "    \"\"\"\n",
    "    This function adds two points on an elliptic curve \n",
    "    :param P: first point tuple (x, y)\n",
    "    :param Q: second point tuple (x, y) \n",
    "    :param p: mod int value \n",
    "    :return: point P + Q tuple (x, y)\n",
    "    \"\"\"\n",
    "    x1, y1 = P\n",
    "    x2, y2 = Q\n",
    "     \n",
    "    if x1 == x2 and y1 == y2:                       # if same point (P == Q)\n",
    "        beta = (3*x1*x2 + a) * pow(2*y1, -1, p)\n",
    "    else:\n",
    "        beta = (y2 - y1) * pow(x2 - x1, -1, p)\n",
    "     \n",
    "    x3 = (beta*beta - x1 - x2) % p\n",
    "    y3 = (beta * (x1 - x3) - y1) % p\n",
    "    \n",
    "    is_on_curve((x3, y3), p)\n",
    "             \n",
    "    return x3, y3"
   ]
  },
  {
   "cell_type": "code",
   "execution_count": 34,
   "id": "9326168a",
   "metadata": {},
   "outputs": [],
   "source": [
    "def is_on_curve(P: tuple, p: int):\n",
    "    \"\"\"\n",
    "    This function asserts that point P is on curve, and throws an error if not\n",
    "    :param P: first point tuple (x, y)\n",
    "    :param p: mod int value \n",
    "    :return: throws an error if P is not on the curve\n",
    "    \"\"\"\n",
    "    x, y = P \n",
    "    assert (y * y) % p == (pow(x, 3, p) + (a * x) + b) % p"
   ]
  },
  {
   "cell_type": "code",
   "execution_count": 35,
   "id": "1cf7b32a",
   "metadata": {},
   "outputs": [],
   "source": [
    "is_on_curve(G, p)"
   ]
  },
  {
   "cell_type": "code",
   "execution_count": 36,
   "id": "04316518",
   "metadata": {},
   "outputs": [],
   "source": [
    "# Secp256k1 curve formula\n",
    "a = 0 \n",
    "b = 7\n",
    " \n",
    "# base point\n",
    "G = (55066263022277343669578718895168534326250603453777594175500187360389116729240, \n",
    "     32670510020758816978083085130507043184471273380659243275938904335757337482424)\n",
    " \n",
    "# modulo\n",
    "p = pow(2, 256) - pow(2, 32) - pow(2, 9) - pow(2, 8) - pow(2, 7) - pow(2, 6) - pow(2, 4) - pow(2, 0)\n",
    " \n",
    "# order\n",
    "n = 115792089237316195423570985008687907852837564279074904382605163141518161494337\n",
    " "
   ]
  },
  {
   "cell_type": "code",
   "execution_count": 37,
   "id": "e53c1832",
   "metadata": {},
   "outputs": [],
   "source": [
    "point_2G = add_points(G, G, p)"
   ]
  },
  {
   "cell_type": "code",
   "execution_count": 38,
   "id": "97d16265",
   "metadata": {},
   "outputs": [
    {
     "data": {
      "text/plain": [
       "(89565891926547004231252920425935692360644145829622209833684329913297188986597,\n",
       " 12158399299693830322967808612713398636155367887041628176798871954788371653930)"
      ]
     },
     "execution_count": 38,
     "metadata": {},
     "output_type": "execute_result"
    }
   ],
   "source": [
    "point_2G"
   ]
  },
  {
   "cell_type": "code",
   "execution_count": 56,
   "id": "e6874bb6",
   "metadata": {},
   "outputs": [
    {
     "name": "stdout",
     "output_type": "stream",
     "text": [
      "100000G = (12990793995470615327132242729637408429897977833227218303110267247764973634813, 71730373397260220979730338018814208577850345185224410966042341368431924024217) \n",
      "\n"
     ]
    }
   ],
   "source": [
    "init_point = G\n",
    "\n",
    "for i in range(2,100001):\n",
    "    init_point = add_points(init_point, G, p)\n",
    "\n",
    "print(f\"{i}G = {init_point} \\n\")"
   ]
  },
  {
   "cell_type": "code",
   "execution_count": null,
   "id": "35961708",
   "metadata": {},
   "outputs": [],
   "source": []
  },
  {
   "cell_type": "code",
   "execution_count": null,
   "id": "15c100ae",
   "metadata": {},
   "outputs": [],
   "source": []
  },
  {
   "cell_type": "code",
   "execution_count": 53,
   "id": "449dac1f",
   "metadata": {},
   "outputs": [],
   "source": [
    "def apply_double_and_add_method(G, k, p):\n",
    "    target_point = G\n",
    "     \n",
    "    k_binary = bin(k)[2:] #0b1111111001\n",
    "     \n",
    "    for i in range(1, len(k_binary)):\n",
    "        current_bit = k_binary[i: i+1]\n",
    "         \n",
    "        # doubling - always\n",
    "        target_point = add_points(target_point, target_point, p)\n",
    "         \n",
    "        if current_bit == \"1\":\n",
    "            target_point = add_points(target_point, G, p)\n",
    "         \n",
    "    return target_point"
   ]
  },
  {
   "cell_type": "code",
   "execution_count": 57,
   "id": "450392cb",
   "metadata": {},
   "outputs": [
    {
     "data": {
      "text/plain": [
       "(12990793995470615327132242729637408429897977833227218303110267247764973634813,\n",
       " 71730373397260220979730338018814208577850345185224410966042341368431924024217)"
      ]
     },
     "execution_count": 57,
     "metadata": {},
     "output_type": "execute_result"
    }
   ],
   "source": [
    "apply_double_and_add_method(G, 100000, p)"
   ]
  },
  {
   "cell_type": "code",
   "execution_count": null,
   "id": "05586cf0",
   "metadata": {},
   "outputs": [],
   "source": []
  }
 ],
 "metadata": {
  "kernelspec": {
   "display_name": "Python 3 (ipykernel)",
   "language": "python",
   "name": "python3"
  },
  "language_info": {
   "codemirror_mode": {
    "name": "ipython",
    "version": 3
   },
   "file_extension": ".py",
   "mimetype": "text/x-python",
   "name": "python",
   "nbconvert_exporter": "python",
   "pygments_lexer": "ipython3",
   "version": "3.11.3"
  }
 },
 "nbformat": 4,
 "nbformat_minor": 5
}
